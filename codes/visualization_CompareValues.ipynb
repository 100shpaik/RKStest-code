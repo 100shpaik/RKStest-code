{
 "cells": [
  {
   "cell_type": "markdown",
   "id": "f704c85a-ba4e-4a7c-b9b0-283f36429667",
   "metadata": {},
   "source": [
    "# 0) Initialization"
   ]
  },
  {
   "cell_type": "code",
   "execution_count": null,
   "id": "2ace1af2-43c9-4550-ba27-622463ac9568",
   "metadata": {},
   "outputs": [],
   "source": [
    "%load_ext autoreload\n",
    "%autoreload 2"
   ]
  },
  {
   "cell_type": "code",
   "execution_count": null,
   "id": "8b4f8f05-fc5b-4cc4-b402-4843400d067a",
   "metadata": {},
   "outputs": [],
   "source": [
    "import os\n",
    "import pandas as pd\n",
    "import time\n",
    "import numpy as np\n",
    "import matplotlib.pyplot as plt"
   ]
  },
  {
   "cell_type": "code",
   "execution_count": null,
   "id": "63be5d54-2ee6-492d-836c-fff0d0ce2dde",
   "metadata": {},
   "outputs": [],
   "source": [
    "import visualization"
   ]
  },
  {
   "cell_type": "code",
   "execution_count": null,
   "id": "2b3a7bb0-db07-4b49-b5bb-ba1924417ab1",
   "metadata": {},
   "outputs": [],
   "source": [
    "pd.set_option('display.max_columns', None)"
   ]
  },
  {
   "cell_type": "markdown",
   "id": "283cfb0b-a6e8-440f-9968-6cb12496da20",
   "metadata": {},
   "source": [
    "# 1) Read csv files"
   ]
  },
  {
   "cell_type": "code",
   "execution_count": null,
   "id": "3f24e634-380d-4ff5-973d-d7976739d3a1",
   "metadata": {},
   "outputs": [],
   "source": [
    "folder_list =[\n",
    "    # e.g. {'TIME_STAMP':  \"0101_1730\", 'ARRAY_KEYS': \"k_N_lr\", 'ARRAY_LEN': 100}\n",
    "    {'TIME_STAMP':  \"WHAT-YOU-SET\", 'ARRAY_KEYS': \"WHAT-YOU-SET\", 'ARRAY_LEN': 0}\n",
    "]"
   ]
  },
  {
   "cell_type": "code",
   "execution_count": null,
   "id": "5be1a2f0-1a0c-4aac-8cae-d6b06d6076e7",
   "metadata": {},
   "outputs": [],
   "source": [
    "data = visualization.AggregateFolders(folder_list)"
   ]
  },
  {
   "cell_type": "code",
   "execution_count": null,
   "id": "8041d996-2a81-4357-a293-d06211063aba",
   "metadata": {
    "scrolled": true,
    "tags": []
   },
   "outputs": [],
   "source": [
    "data.index = list(range(len(data)))\n",
    "print(data.shape)\n",
    "data.head(6)"
   ]
  },
  {
   "cell_type": "markdown",
   "id": "827767cb-0834-4eb0-907a-8c4f996154af",
   "metadata": {},
   "source": [
    "# 2) Visualize - comparison table or scatter plot"
   ]
  },
  {
   "cell_type": "code",
   "execution_count": null,
   "id": "e41f9df4-9a36-401e-9400-bcda7144314b",
   "metadata": {},
   "outputs": [],
   "source": [
    "datatype = 'only_checkpoints'\n",
    "visualize = visualization.Visualize(data)\n",
    "print(visualize.data_num, visualize.rep_optim)"
   ]
  },
  {
   "cell_type": "markdown",
   "id": "692d1e7c-111e-4567-b0b1-59102fd39fea",
   "metadata": {},
   "source": [
    "## 2-1) Log vs No-log"
   ]
  },
  {
   "cell_type": "code",
   "execution_count": null,
   "id": "ca59558d-88c7-4b53-9ac8-4566b653d9f9",
   "metadata": {},
   "outputs": [],
   "source": [
    "attribute = {'compare' : ['log_nolog', ['log', 'nolog']],\n",
    "             'lr_list' : [0.01, 0.1, 0.5, 1.0, 5.0],\n",
    "             'col'     : 'd',\n",
    "             'c_list'  : [0.9999, 0.95, 0.9, 0.8, 0.7],\n",
    "             'fixed'   : [['k', 4], ['N', 10], ['task', 'var-one'], ['all_or_one', 'one']]\n",
    "}\n",
    "visualize.AppendixMMD_compare('table', datatype, attribute, optimizer_rep = True, mmdtype = 'best:1200')"
   ]
  },
  {
   "cell_type": "code",
   "execution_count": null,
   "id": "3522ba7e-f37b-4e44-874b-4c0892b80245",
   "metadata": {},
   "outputs": [],
   "source": [
    "attribute = {'compare' : ['log_nolog', ['log', 'nolog']],\n",
    "             'lr_list' : [0.5],\n",
    "             'col'     : 'd',\n",
    "             'c_list'  : [0.9999, 0.95, 0.9, 0.8, 0.7],\n",
    "             'fixed'   : [['k', 4], ['N', 10], ['task', 'var-one'], ['all_or_one', 'one']]\n",
    "}\n",
    "visualize.AppendixMMD_compare('scatter', datatype, attribute, optimizer_rep = True, mmdtype = 'best:1200')"
   ]
  },
  {
   "cell_type": "markdown",
   "id": "59594ed5-2644-4c63-aeb7-6227e168f186",
   "metadata": {},
   "source": [
    "## 2-2) N=2 vs N=10"
   ]
  },
  {
   "cell_type": "code",
   "execution_count": null,
   "id": "d4faf37b-da75-4be9-a9cd-b534567fc28a",
   "metadata": {},
   "outputs": [],
   "source": [
    "attribute = {'compare' : ['N', [10, 2]],\n",
    "             'lr_list' : [0.01, 0.1, 0.5, 1.0, 5.0],\n",
    "             'col'     : 'd',\n",
    "             'c_list'  : [0.9999, 0.95, 0.9, 0.8, 0.7],\n",
    "             'fixed'   : [['k', 4], ['log_nolog', 'log'], ['task', 'var-one'], ['all_or_one', 'one']]\n",
    "}\n",
    "visualize.AppendixMMD_compare('table', datatype, attribute, optimizer_rep = True, mmdtype = 'best:1200')"
   ]
  },
  {
   "cell_type": "code",
   "execution_count": null,
   "id": "efec4c23-27a1-4ca0-b1ea-baf887897ea4",
   "metadata": {},
   "outputs": [],
   "source": [
    "attribute = {'compare' : ['N', [10, 2]],\n",
    "             'lr_list' : [0.5],\n",
    "             'col'     : 'd',\n",
    "             'c_list'  : [0.9999, 0.95, 0.9, 0.8, 0.7],\n",
    "             'fixed'   : [['k', 4], ['log_nolog', 'log'], ['task', 'var-one'], ['all_or_one', 'one']]\n",
    "}\n",
    "visualize.AppendixMMD_compare('scatter', datatype, attribute, optimizer_rep = True, mmdtype = 'best:1200')"
   ]
  },
  {
   "cell_type": "code",
   "execution_count": null,
   "id": "87f8ee69-41a7-460a-9de0-56738a947d50",
   "metadata": {},
   "outputs": [],
   "source": []
  }
 ],
 "metadata": {
  "kernelspec": {
   "display_name": "mmd-env",
   "language": "python",
   "name": "mmd-env"
  },
  "language_info": {
   "codemirror_mode": {
    "name": "ipython",
    "version": 3
   },
   "file_extension": ".py",
   "mimetype": "text/x-python",
   "name": "python",
   "nbconvert_exporter": "python",
   "pygments_lexer": "ipython3",
   "version": "3.8.16"
  }
 },
 "nbformat": 4,
 "nbformat_minor": 5
}
