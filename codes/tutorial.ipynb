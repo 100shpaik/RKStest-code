{
 "cells": [
  {
   "cell_type": "markdown",
   "id": "f704c85a-ba4e-4a7c-b9b0-283f36429667",
   "metadata": {},
   "source": [
    "# 0) Initialization"
   ]
  },
  {
   "cell_type": "code",
   "execution_count": null,
   "id": "2ace1af2-43c9-4550-ba27-622463ac9568",
   "metadata": {},
   "outputs": [],
   "source": [
    "%load_ext autoreload\n",
    "%autoreload 2"
   ]
  },
  {
   "cell_type": "code",
   "execution_count": null,
   "id": "8b4f8f05-fc5b-4cc4-b402-4843400d067a",
   "metadata": {},
   "outputs": [],
   "source": [
    "import pandas as pd\n",
    "import time\n",
    "import sampling, utils, param"
   ]
  },
  {
   "cell_type": "code",
   "execution_count": null,
   "id": "bb02d162-be5e-4c3e-acd4-3b5a5fa87244",
   "metadata": {},
   "outputs": [],
   "source": [
    "# utils.print_basic_info() # Brief information about the environment"
   ]
  },
  {
   "cell_type": "code",
   "execution_count": null,
   "id": "3cea1d29-f467-4c5e-8c07-9b67f00fd3bb",
   "metadata": {},
   "outputs": [],
   "source": [
    "pd.set_option('display.max_columns', None)"
   ]
  },
  {
   "cell_type": "markdown",
   "id": "94dd7231-ff97-4441-b99a-96c1c3bc2386",
   "metadata": {},
   "source": [
    "# 1) One particular sampled dataset"
   ]
  },
  {
   "cell_type": "code",
   "execution_count": null,
   "id": "d8a68928-acaa-4f89-949d-ea6d4dc666ad",
   "metadata": {},
   "outputs": [],
   "source": [
    "mysample = sampling.MySample(param.sdict, param.s_seed, verbose = False)\n",
    "mysample.GenDist()\n",
    "mysample.GenSmpl()\n",
    "mysample.SmplSummary()"
   ]
  },
  {
   "cell_type": "code",
   "execution_count": null,
   "id": "339ffcbe-358e-470a-ab5e-c41d7efe4ecd",
   "metadata": {},
   "outputs": [],
   "source": [
    "mysample.VisDimOneTwo(smpl_type = 'original')\n",
    "mysample.VisDimOneTwo(smpl_type = 'box_2')"
   ]
  },
  {
   "cell_type": "markdown",
   "id": "f5e86a82-e229-406c-8471-74b9dc1aea8a",
   "metadata": {},
   "source": [
    "## 1.1) Grid Search"
   ]
  },
  {
   "cell_type": "code",
   "execution_count": null,
   "id": "9fc53ff7-ffeb-4102-9645-cab83853771d",
   "metadata": {},
   "outputs": [],
   "source": [
    "mysample.OptInit(param.odict, param.o_seed)"
   ]
  },
  {
   "cell_type": "code",
   "execution_count": null,
   "id": "5453d79e-cc03-4085-a289-0e9075c9f615",
   "metadata": {},
   "outputs": [],
   "source": [
    "mysample.verbose = True\n",
    "mysample.GridSearch(param.gdict) # only works with 2-dimension (i.e. mysample.d=2) with non-zero k\n",
    "mysample.verbose = False\n",
    "mysample.VisGridSearch()"
   ]
  },
  {
   "cell_type": "code",
   "execution_count": null,
   "id": "3161a43c-52c6-44dd-9d80-739f133e2d5a",
   "metadata": {},
   "outputs": [],
   "source": [
    "remember_k = mysample.k\n",
    "utils.DrawHeatmaps([0,1,2], mysample, param.gdict)\n",
    "mysample.k = remember_k"
   ]
  },
  {
   "cell_type": "markdown",
   "id": "8fe191b6-f430-4697-a773-9ee38884fb25",
   "metadata": {},
   "source": [
    "## 1.2) MMD calculation"
   ]
  },
  {
   "cell_type": "code",
   "execution_count": null,
   "id": "ff520d62-7268-474c-aaa5-8facecd0bfab",
   "metadata": {},
   "outputs": [],
   "source": [
    "mysample.OptInit(param.odict, param.o_seed)\n",
    "print(mysample.optimizer, mysample.tAll, mysample.lamb, mysample.device, mysample.k)"
   ]
  },
  {
   "cell_type": "code",
   "execution_count": null,
   "id": "f0750f3c-76ce-4fef-9286-a69715c67f37",
   "metadata": {
    "scrolled": true,
    "tags": []
   },
   "outputs": [],
   "source": [
    "mysample.verbose = True\n",
    "mysample.OptSolve()\n",
    "mysample.verbose = False"
   ]
  },
  {
   "cell_type": "code",
   "execution_count": null,
   "id": "cdd88f72-76df-4ca2-b7be-1eec280f5fac",
   "metadata": {
    "tags": []
   },
   "outputs": [],
   "source": [
    "mysample.OptVis('history', start=20)\n",
    "# mysample.OptVis('history', start=0)\n",
    "# mysample.OptVis('all', start=20)"
   ]
  },
  {
   "cell_type": "markdown",
   "id": "99310ddd-38da-4af7-9e89-e8ff11d00516",
   "metadata": {},
   "source": [
    "## 1.2.1) The last result of the optimization"
   ]
  },
  {
   "cell_type": "code",
   "execution_count": null,
   "id": "134f6a37-61a0-4d0f-8688-0f6d1dae060f",
   "metadata": {},
   "outputs": [],
   "source": [
    "mysample.OptNorm('last')\n",
    "print(mysample.tAll, mysample.opt_norm['i'], mysample.opt_norm['IPM'], \"\\n\") # check the value of 'i' is equal to 'mysample.tAll - 1'\n",
    "mysample.OptMajor(verb_grid = True)"
   ]
  },
  {
   "cell_type": "code",
   "execution_count": null,
   "id": "f096c92d-507e-470b-beab-1efa38faa3ff",
   "metadata": {},
   "outputs": [],
   "source": [
    "mysample.verbose = False\n",
    "mysample.OptChooseOne()\n",
    "print(mysample.opt_one)\n",
    "mysample.verbose = False"
   ]
  },
  {
   "cell_type": "markdown",
   "id": "7943ee8b-bfea-47db-be3c-ffe0cca8b313",
   "metadata": {},
   "source": [
    "## 1.2.2) The best result throughout the whole optimization process"
   ]
  },
  {
   "cell_type": "code",
   "execution_count": null,
   "id": "60fc27aa-64d7-43d0-900b-83c887977f34",
   "metadata": {},
   "outputs": [],
   "source": [
    "mysample.OptNorm('best')\n",
    "print(mysample.tAll, mysample.opt_norm['i'], mysample.opt_norm['IPM'], \"\\n\")\n",
    "mysample.OptMajor(verb_grid = True)"
   ]
  },
  {
   "cell_type": "code",
   "execution_count": null,
   "id": "2c0c2a92-c2c3-41ba-bff7-b0bf707b6d15",
   "metadata": {},
   "outputs": [],
   "source": [
    "mysample.verbose = False\n",
    "mysample.OptChooseOne()\n",
    "print(mysample.opt_one)\n",
    "mysample.verbose = False"
   ]
  },
  {
   "cell_type": "markdown",
   "id": "b3efa0dd-0b6b-428e-a6aa-40f8ccdf886e",
   "metadata": {},
   "source": [
    "# 2) Alternative and null hypothesis: multiple resampled datasets"
   ]
  },
  {
   "cell_type": "code",
   "execution_count": null,
   "id": "c5dc481f-7431-40ff-a12a-d458dd439c7d",
   "metadata": {},
   "outputs": [],
   "source": [
    "altnull_repeat = sampling.MySample(param.sdict, param.s_seed, verbose = False)\n",
    "altnull_repeat.OptInit(param.odict, param.o_seed)"
   ]
  },
  {
   "cell_type": "code",
   "execution_count": null,
   "id": "c0481b9d-b868-44c2-99b8-07e2f9a8be2e",
   "metadata": {},
   "outputs": [],
   "source": [
    "start  = time.time()\n",
    "altnull_repeat_output = altnull_repeat.AltNullRepeat(rep_sample = 5, rep_optim = 3, altnull_task = 'logonly')\n",
    "# output_lnl = altnull_repeat.AltNullRepeat(rep_sample = 5, rep_optim = 3, altnull_task = 'lognolog')\n",
    "print(time.time()-start)"
   ]
  },
  {
   "cell_type": "code",
   "execution_count": null,
   "id": "e24ca40d-bd22-47b0-a8a2-b8c16f84a459",
   "metadata": {},
   "outputs": [],
   "source": [
    "print(altnull_repeat_output.shape)\n",
    "# print(altnull_repeat_output.isna().astype(int).sum(axis = 0))\n",
    "altnull_repeat_output[altnull_repeat_output['hypo'] == 'alt_hypo'].head(40)"
   ]
  },
  {
   "cell_type": "code",
   "execution_count": null,
   "id": "fc6fa36c-23a3-4518-a8d4-5c17c9b875da",
   "metadata": {},
   "outputs": [],
   "source": [
    "utils.PlotAltNullRepeat(altnull_repeat, altnull_repeat_output, 'log', 12)"
   ]
  },
  {
   "cell_type": "markdown",
   "id": "7acbfefd-486a-4e26-b800-b0ca2b717022",
   "metadata": {},
   "source": [
    "# 3) MMD values during the whole optimization"
   ]
  },
  {
   "cell_type": "code",
   "execution_count": null,
   "id": "6800fbd1-a7fe-4afb-a5ba-74a607a5fd9d",
   "metadata": {},
   "outputs": [],
   "source": [
    "mmd_curve = sampling.MySample(param.sdict, param.s_seed, verbose = False)\n",
    "mmd_curve.OptInit(param.odict, param.o_seed)"
   ]
  },
  {
   "cell_type": "code",
   "execution_count": null,
   "id": "b9dc3dd4-2f2a-49f1-8c38-4efc6d0fadf3",
   "metadata": {},
   "outputs": [],
   "source": [
    "start  = time.time()\n",
    "mmd_curve_output = mmd_curve.MMDCurveAltNullRepeat(rep_sample = 5, rep_optim = 3)\n",
    "print(time.time()-start)"
   ]
  },
  {
   "cell_type": "code",
   "execution_count": null,
   "id": "2329bf6e-462d-4b78-aa82-414add8e67f5",
   "metadata": {},
   "outputs": [],
   "source": [
    "print(mmd_curve_output.shape)\n",
    "mmd_curve_output[mmd_curve_output['log_nolog'] == 'log'].head(6)"
   ]
  },
  {
   "cell_type": "code",
   "execution_count": null,
   "id": "ac0f9234-9121-469b-9bc2-a94de54b0c9e",
   "metadata": {},
   "outputs": [],
   "source": []
  }
 ],
 "metadata": {
  "kernelspec": {
   "display_name": "mmd-env",
   "language": "python",
   "name": "mmd-env"
  },
  "language_info": {
   "codemirror_mode": {
    "name": "ipython",
    "version": 3
   },
   "file_extension": ".py",
   "mimetype": "text/x-python",
   "name": "python",
   "nbconvert_exporter": "python",
   "pygments_lexer": "ipython3",
   "version": "3.8.16"
  }
 },
 "nbformat": 4,
 "nbformat_minor": 5
}
