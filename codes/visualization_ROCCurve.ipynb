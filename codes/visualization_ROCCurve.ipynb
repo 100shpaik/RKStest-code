{
 "cells": [
  {
   "cell_type": "markdown",
   "id": "f704c85a-ba4e-4a7c-b9b0-283f36429667",
   "metadata": {},
   "source": [
    "# 0) Initialization"
   ]
  },
  {
   "cell_type": "code",
   "execution_count": null,
   "id": "2ace1af2-43c9-4550-ba27-622463ac9568",
   "metadata": {},
   "outputs": [],
   "source": [
    "%load_ext autoreload\n",
    "%autoreload 2"
   ]
  },
  {
   "cell_type": "code",
   "execution_count": null,
   "id": "8b4f8f05-fc5b-4cc4-b402-4843400d067a",
   "metadata": {},
   "outputs": [],
   "source": [
    "import pandas as pd\n",
    "import time\n",
    "import numpy as np\n",
    "import matplotlib.pyplot as plt"
   ]
  },
  {
   "cell_type": "code",
   "execution_count": null,
   "id": "63be5d54-2ee6-492d-836c-fff0d0ce2dde",
   "metadata": {},
   "outputs": [],
   "source": [
    "import visualization"
   ]
  },
  {
   "cell_type": "code",
   "execution_count": null,
   "id": "2b3a7bb0-db07-4b49-b5bb-ba1924417ab1",
   "metadata": {},
   "outputs": [],
   "source": [
    "pd.set_option('display.max_columns', None)"
   ]
  },
  {
   "cell_type": "markdown",
   "id": "283cfb0b-a6e8-440f-9968-6cb12496da20",
   "metadata": {},
   "source": [
    "# 1) Read csv files"
   ]
  },
  {
   "cell_type": "code",
   "execution_count": null,
   "id": "3f24e634-380d-4ff5-973d-d7976739d3a1",
   "metadata": {},
   "outputs": [],
   "source": [
    "folder_list =[\n",
    "    # e.g. {'TIME_STAMP':  \"0101_1730\", 'ARRAY_KEYS': \"k_N_lr\", 'ARRAY_LEN': 100}\n",
    "    {'TIME_STAMP':  \"WHAT-YOU-SET\", 'ARRAY_KEYS': \"WHAT-YOU-SET\", 'ARRAY_LEN': 0}\n",
    "]"
   ]
  },
  {
   "cell_type": "code",
   "execution_count": null,
   "id": "5be1a2f0-1a0c-4aac-8cae-d6b06d6076e7",
   "metadata": {},
   "outputs": [],
   "source": [
    "data = visualization.AggregateFolders(folder_list)"
   ]
  },
  {
   "cell_type": "code",
   "execution_count": null,
   "id": "b599e9ec-860d-41af-a948-62a4c434a430",
   "metadata": {},
   "outputs": [],
   "source": [
    "print(data.shape)\n",
    "data.index = list(range(len(data)))\n",
    "data.head(6)"
   ]
  },
  {
   "cell_type": "markdown",
   "id": "98498377-8240-498a-9ba8-4ddd777bca1a",
   "metadata": {},
   "source": [
    "# 2) Visualization - ROC curves"
   ]
  },
  {
   "cell_type": "code",
   "execution_count": null,
   "id": "e41f9df4-9a36-401e-9400-bcda7144314b",
   "metadata": {},
   "outputs": [],
   "source": [
    "visualize = visualization.Visualize(data)\n",
    "print(visualize.data_num, visualize.rep_optim)"
   ]
  },
  {
   "cell_type": "markdown",
   "id": "3645695e-8c59-4394-86f4-999ebe0660c1",
   "metadata": {},
   "source": [
    "## 2-1) Choice of learning rate"
   ]
  },
  {
   "cell_type": "code",
   "execution_count": null,
   "id": "8cfd9431-d30e-4b21-b871-e093201c4881",
   "metadata": {},
   "outputs": [],
   "source": [
    "attribute = {'row'     : 'log_nolog',\n",
    "             'col'     : 'd',\n",
    "             'varying' : 'lr',\n",
    "             'fixed'   : [['k', 4], ['N', 10], ['task', 'var-one'], ['eff_tI', 12]]\n",
    "}\n",
    "visualize.AppendixROC(attribute, no_large_k = False, cuts = 3000, optimizer_rep = True, all_or_one = 'one')"
   ]
  },
  {
   "cell_type": "markdown",
   "id": "3df2cf0d-8d3b-4eec-8e5a-bba443c3386b",
   "metadata": {},
   "source": [
    "## 2-2) Log optimization needs less iterations"
   ]
  },
  {
   "cell_type": "code",
   "execution_count": null,
   "id": "5c87a963-efa8-4e4e-89e8-610a73be3582",
   "metadata": {},
   "outputs": [],
   "source": [
    "attribute = {'row'     : 'log_nolog',\n",
    "             'col'     : 'd',\n",
    "             'varying' : 'eff_tI',\n",
    "             'fixed'   : [['k', 4], ['lr', 0.5], ['N', 10], ['task', 'var-one']]\n",
    "}\n",
    "visualize.AppendixROC(attribute, no_large_k = False, cuts = 3000, optimizer_rep = True, all_or_one = 'one')"
   ]
  },
  {
   "cell_type": "markdown",
   "id": "5bd66b4e-763b-47f2-80e6-8ec677f64979",
   "metadata": {},
   "source": [
    "## 2-3) Role of multiple neurons"
   ]
  },
  {
   "cell_type": "code",
   "execution_count": null,
   "id": "2e1f6791-6bef-4d6a-8a8a-6a35e78fbf05",
   "metadata": {},
   "outputs": [],
   "source": [
    "attribute = {'row'     : 'k',\n",
    "             'col'     : 'd',\n",
    "             'varying' : 'N',\n",
    "             'fixed'   : [['log_nolog', 'log'], ['lr', 0.5], ['task', 'var-one'], ['eff_tI', 12]]\n",
    "}\n",
    "visualize.AppendixROC(attribute, no_large_k = False, cuts = 3000, optimizer_rep = True, all_or_one = 'one')"
   ]
  },
  {
   "cell_type": "markdown",
   "id": "03ad12b5-2c45-46b5-9af3-cfe1307e387d",
   "metadata": {},
   "source": [
    "## 2-4) Repeating optimization or not"
   ]
  },
  {
   "cell_type": "code",
   "execution_count": null,
   "id": "7743566f-e742-4e26-900f-68f005a52541",
   "metadata": {},
   "outputs": [],
   "source": [
    "attribute = {'row'     : 'eff_tI', \n",
    "             'col'     : 'd',\n",
    "             'varying' : 'k',\n",
    "             'fixed'   : [['lr', 0.5], ['N', 10], ['task', 'var-one'], ['log_nolog', 'log']]\n",
    "}\n",
    "visualize.AppendixROC_optimrep(attribute, no_large_k = False, cuts = 3000, all_or_one = 'one')"
   ]
  },
  {
   "cell_type": "code",
   "execution_count": null,
   "id": "fd0001ba-6468-46f6-a0b2-9e42dfb398ee",
   "metadata": {},
   "outputs": [],
   "source": []
  }
 ],
 "metadata": {
  "kernelspec": {
   "display_name": "mmd-env",
   "language": "python",
   "name": "mmd-env"
  },
  "language_info": {
   "codemirror_mode": {
    "name": "ipython",
    "version": 3
   },
   "file_extension": ".py",
   "mimetype": "text/x-python",
   "name": "python",
   "nbconvert_exporter": "python",
   "pygments_lexer": "ipython3",
   "version": "3.8.16"
  }
 },
 "nbformat": 4,
 "nbformat_minor": 5
}
