{
 "cells": [
  {
   "cell_type": "code",
   "execution_count": null,
   "id": "b937e9b9-d007-4bc2-83dc-bd11527d1d84",
   "metadata": {},
   "outputs": [],
   "source": [
    "import pickle\n",
    "import itertools\n",
    "import pandas as pd"
   ]
  },
  {
   "cell_type": "markdown",
   "id": "a75d665b-ddd2-448b-969b-dc50b0f3d112",
   "metadata": {},
   "source": [
    "# 1) Setup"
   ]
  },
  {
   "cell_type": "code",
   "execution_count": null,
   "id": "3743afcd-f37b-4fb0-bb82-d9c44b44cdd8",
   "metadata": {},
   "outputs": [],
   "source": [
    "config_dict = {\n",
    "    'sample': {'task': ['var-one'], #['var-one', 'kmmd-iso', 'mean-shift', 't-one', 'var-all'], \n",
    "               'v': [1.4], #[2.4, 1.6, 3, 1.4, 1.2], \n",
    "               'd': [2, 4, 8, 16],\n",
    "               'k': [1, 3],\n",
    "               'nP': [512],\n",
    "               'nQ': [512],\n",
    "               #---\n",
    "               's_seed': [1234]\n",
    "               },\n",
    "    'optim': {'optim': ['ADAM'],\n",
    "              'lr': [0.5], \n",
    "              'N': [2, 10],\n",
    "              'tB': [100],\n",
    "              'tI': [12],\n",
    "              'lamb': [1],\n",
    "              'optimizer': ['ADAM'],\n",
    "              'device': ['cpu'],\n",
    "              #---\n",
    "              'o_seed': [1234],\n",
    "              #---\n",
    "              'rep_sample': [20],\n",
    "              'rep_optim': [3],\n",
    "              #---\n",
    "              'smpl_type': ['box_2']\n",
    "             }\n",
    "}"
   ]
  },
  {
   "cell_type": "code",
   "execution_count": null,
   "id": "02f53048-bfb8-4b2b-ab98-05eb6ef2abb9",
   "metadata": {},
   "outputs": [],
   "source": [
    "# config_dict = {\n",
    "#     'sample': {'task': ['var-one', 'kmmd-iso', 'mean-shift', 't-one', 'var-all'], \n",
    "#                'v': [2.4, 1.6, 3, 1.4, 1.2], \n",
    "#                'd': [2, 4, 8, 16],\n",
    "#                'k': [0, 1, 2, 3],\n",
    "#                'nP': [512],\n",
    "#                'nQ': [512],\n",
    "#                #---\n",
    "#                's_seed': [1234]\n",
    "#                },\n",
    "#     'optim': {'optim': ['ADAM'],\n",
    "#               'lr': [0.5], \n",
    "#               'N': [10],\n",
    "#               'tB': [100],\n",
    "#               'tI': [12],\n",
    "#               'lamb': [1],\n",
    "#               'optimizer': ['ADAM'],\n",
    "#               'device': ['cpu'],\n",
    "#               #---\n",
    "#               'o_seed': [1234],\n",
    "#               #---\n",
    "#               'rep_sample': [100],\n",
    "#               'rep_optim': [3],\n",
    "#               #---\n",
    "#               'smpl_type': ['box_2']\n",
    "#              }\n",
    "# }"
   ]
  },
  {
   "cell_type": "code",
   "execution_count": null,
   "id": "965badc1-6e97-4be1-95a8-76f98079b17f",
   "metadata": {},
   "outputs": [],
   "source": [
    "# config_dict = {\n",
    "#     'sample': {'task': ['var-one'],  #['var-one', 'kmmd-iso', 'mean-shift', 't-one', 'var-all'], \n",
    "#                'v': [1.4], #[2.4, 1.6, 3, 1.4, 1.2], \n",
    "#                'd': [2, 4, 8, 16],\n",
    "#                'k': [1, 2, 3, 4],\n",
    "#                'nP': [512],\n",
    "#                'nQ': [512],\n",
    "#                #---\n",
    "#                's_seed': [1234]\n",
    "#                },\n",
    "#     'optim': {'optim': ['ADAM'],\n",
    "#               'lr': [0.01, 0.5, 1, 5, 10], #[0.5],\n",
    "#               'N': [1, 2, 5, 10],\n",
    "#               'tB': [100],\n",
    "#               'tI': [12],\n",
    "#               'lamb': [1],\n",
    "#               'optimizer': ['ADAM'],\n",
    "#               'device': ['cpu'],\n",
    "#               #---\n",
    "#               'o_seed': [1234],\n",
    "#               #---\n",
    "#               'rep_sample': [20],\n",
    "#               'rep_optim': [3],\n",
    "#               #---\n",
    "#               'smpl_type': ['box_2']\n",
    "#              }\n",
    "# }"
   ]
  },
  {
   "cell_type": "markdown",
   "id": "b888aee3-809b-4709-b49c-6bcf83f0eff3",
   "metadata": {},
   "source": [
    "## 1-1) Runtime estimation"
   ]
  },
  {
   "cell_type": "code",
   "execution_count": null,
   "id": "e23d7346-857c-4f0b-960c-3ee60dc82f9b",
   "metadata": {},
   "outputs": [],
   "source": [
    "# parallelization\n",
    "cores = 36\n",
    "one_rep_time = 130 # sec\n",
    "rep_sample_adj = 5 # number of rep_sample used in `one_rep_time` observation\n",
    "rep_optim_adj = 3 # number of rep_sample used in `one_rep_time` observation\n",
    "\n",
    "# optim\n",
    "setting = 9\n",
    "\n",
    "# sample\n",
    "for key in config_dict['sample'].keys():\n",
    "    setting *= len(config_dict['sample'][key])\n",
    "\n",
    "# calculate\n",
    "rep_sample = config_dict['optim']['rep_sample'][0]\n",
    "rep_optim  = config_dict['optim']['rep_optim'][0]\n",
    "sec = one_rep_time * setting * (rep_sample /rep_sample_adj) * (rep_optim / rep_optim_adj)\n",
    "h = sec / 3600\n",
    "d = h / 24\n",
    "print(\"Estimated:\", d, \"days.\", end = \" // \")\n",
    "d = round(d/cores, 3)\n",
    "h = d * 24\n",
    "print(f\"With {cores} cores, {d} days = {h} hours.\")"
   ]
  },
  {
   "cell_type": "markdown",
   "id": "e59db9f4-4803-4357-880a-db3a91a079b4",
   "metadata": {},
   "source": [
    "## 1-2) Generate `config_all`"
   ]
  },
  {
   "cell_type": "code",
   "execution_count": null,
   "id": "7811ccb9-03cb-4941-8be8-2ff48eb7b890",
   "metadata": {
    "scrolled": true,
    "tags": []
   },
   "outputs": [],
   "source": [
    "config_df_dict = {}\n",
    "for t in ['sample', 'optim']:\n",
    "    print(t)\n",
    "    type_key = t+\"_key\"\n",
    "    config = config_dict[t]\n",
    "    keys = config.keys()\n",
    "    output = pd.DataFrame(columns = [key for key in keys])\n",
    "    \n",
    "    combinations = list(itertools.product(*[config[key] for key in keys]))    \n",
    "    \n",
    "    for idx, combination in enumerate(combinations):\n",
    "        one_config = {}\n",
    "        for j, key in enumerate(keys):\n",
    "            val = combination[j]\n",
    "            one_config[key] = val\n",
    "        \n",
    "        one_config[type_key] = idx # Add sample_key or optim_key    \n",
    "        \n",
    "        ### --- Manual adjustment -- Start (if you need any adjustment, change this part)--- ###\n",
    "        if t == 'sample':            \n",
    "            # control v\n",
    "            if one_config['nP'] != one_config['nQ']:\n",
    "                continue\n",
    "                \n",
    "            if one_config['task'] == 'var-one':\n",
    "                if (one_config['v'] != 1.4):\n",
    "                    continue\n",
    "\n",
    "            if one_config['task'] == 'var-all':\n",
    "                if one_config['v'] != 1.2:\n",
    "                    continue\n",
    "\n",
    "            if one_config['task'] == 'mean-shift':\n",
    "                if (one_config['v'] != 1.6):\n",
    "                    continue\n",
    "\n",
    "            if one_config['task'] == 'kmmd-iso':\n",
    "                if (one_config['v'] != 2.4):\n",
    "                    continue\n",
    "\n",
    "            if one_config['task'] == 't-one':\n",
    "                if (one_config['v'] != 3):\n",
    "                    continue\n",
    "                    \n",
    "            print(one_config['task'], one_config['v'])\n",
    "        ### --- Manual adjustment -- End --- ###\n",
    "                    \n",
    "        # Concatenate to 'output'\n",
    "        one_config = pd.DataFrame(one_config, index = [idx])\n",
    "        output = pd.concat([output, one_config])\n",
    "    \n",
    "    output[type_key] = output[type_key].astype(int)\n",
    "    \n",
    "    # Change columns order\n",
    "    cols = output.columns.tolist()\n",
    "    cols = cols[-1:] + cols[:-1]\n",
    "    output = output[cols]\n",
    "\n",
    "    # Assign to 'config_df_dict'\n",
    "    config_df_dict[t] = output\n",
    "    print(output.shape)\n",
    "    print(output, \"\\n\")"
   ]
  },
  {
   "cell_type": "code",
   "execution_count": null,
   "id": "fc2cd8b2-4e0e-44f8-9029-49441d296341",
   "metadata": {},
   "outputs": [],
   "source": [
    "config_all = config_df_dict['sample'].join(config_df_dict['optim'], how = 'cross')\n",
    "config_all"
   ]
  },
  {
   "cell_type": "code",
   "execution_count": null,
   "id": "00794770-6ce9-4e22-97e0-65fe03daee09",
   "metadata": {},
   "outputs": [],
   "source": [
    "# When k=0, remove other configurations except certain ones\n",
    "mask_k     = (config_all['k'] == 0) \n",
    "mask_other = (config_all['lr'] != 0.5) | (config_all['N'] != 10)\n",
    "mask_for_k0 = ~(mask_k & mask_other)\n",
    "config_all = config_all[mask_for_k0]\n",
    "\n",
    "config_all"
   ]
  },
  {
   "cell_type": "markdown",
   "id": "93570f1f-3ad5-435b-941f-292f32455f1a",
   "metadata": {},
   "source": [
    "## 1-3) Generate `array_dict`"
   ]
  },
  {
   "cell_type": "code",
   "execution_count": null,
   "id": "9fe1d202-ac40-4be3-893f-bab5bff417da",
   "metadata": {},
   "outputs": [],
   "source": [
    "# change this based on how many parallelization core you want\n",
    "group_by_list = ['N', 'k', 'd'] \n",
    "#---\n",
    "grouped = config_all.groupby(group_by_list).size()\n",
    "grouped = grouped.reset_index()\n",
    "array_dict = grouped[group_by_list]\n",
    "array_dict"
   ]
  },
  {
   "cell_type": "markdown",
   "id": "b477caf0-c59e-4dc6-9e70-fcd089a37921",
   "metadata": {},
   "source": [
    "# 2) Save into two files"
   ]
  },
  {
   "cell_type": "code",
   "execution_count": null,
   "id": "148bae2c-9331-4bf8-984d-987a053952b0",
   "metadata": {},
   "outputs": [],
   "source": [
    "file_name = f\"config_all.csv\"\n",
    "config_all.to_csv(file_name, index = False)\n",
    "retrieve = pd.read_csv(file_name)\n",
    "retrieve"
   ]
  },
  {
   "cell_type": "code",
   "execution_count": null,
   "id": "fbcc70e1-b39c-4354-8808-fbbab9e025db",
   "metadata": {},
   "outputs": [],
   "source": [
    "file_name = f\"array_dict.csv\"\n",
    "array_dict.to_csv(file_name, index = False)\n",
    "retrieve = pd.read_csv(file_name)\n",
    "retrieve"
   ]
  },
  {
   "cell_type": "markdown",
   "id": "25c877f7-db9b-4941-bcee-5b32e410e192",
   "metadata": {},
   "source": [
    "## 2-1) Check (not necessary)"
   ]
  },
  {
   "cell_type": "code",
   "execution_count": null,
   "id": "7aae1f32-873e-4af3-a44d-45a043581214",
   "metadata": {},
   "outputs": [],
   "source": [
    "\"_\".join(retrieve.columns.tolist())"
   ]
  },
  {
   "cell_type": "code",
   "execution_count": null,
   "id": "f49be51b-d100-4f0c-91b9-9052cc4c207a",
   "metadata": {},
   "outputs": [],
   "source": [
    "array_this_time = retrieve.loc[[0]]\n",
    "print(array_this_time)\n",
    "array_keys = array_this_time.columns.tolist()\n",
    "ARRAY_KEYS = \"_\".join(array_keys) # will be used at the end (saving file)\n",
    "\n",
    "config_this_time = config_all\n",
    "for key in array_keys:\n",
    "    mask = (config_this_time[key] == array_this_time[key].item())\n",
    "    # if key == 'v':\n",
    "        # print(mask)\n",
    "    config_this_time = config_this_time.loc[mask]"
   ]
  },
  {
   "cell_type": "code",
   "execution_count": null,
   "id": "187a3642-2eb3-476f-b842-be37eb77166a",
   "metadata": {},
   "outputs": [],
   "source": [
    "config_this_time"
   ]
  },
  {
   "cell_type": "code",
   "execution_count": null,
   "id": "030d5300-f20c-4e08-9f7d-d8aab237e12c",
   "metadata": {},
   "outputs": [],
   "source": []
  },
  {
   "cell_type": "code",
   "execution_count": null,
   "id": "40644576-da77-4fd7-b7de-3f25a98674d6",
   "metadata": {},
   "outputs": [],
   "source": []
  }
 ],
 "metadata": {
  "kernelspec": {
   "display_name": "mmd-env",
   "language": "python",
   "name": "mmd-env"
  },
  "language_info": {
   "codemirror_mode": {
    "name": "ipython",
    "version": 3
   },
   "file_extension": ".py",
   "mimetype": "text/x-python",
   "name": "python",
   "nbconvert_exporter": "python",
   "pygments_lexer": "ipython3",
   "version": "3.8.16"
  }
 },
 "nbformat": 4,
 "nbformat_minor": 5
}
