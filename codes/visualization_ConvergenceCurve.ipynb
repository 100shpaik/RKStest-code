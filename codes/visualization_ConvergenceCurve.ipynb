{
 "cells": [
  {
   "cell_type": "markdown",
   "id": "f704c85a-ba4e-4a7c-b9b0-283f36429667",
   "metadata": {},
   "source": [
    "# 0) Initialization"
   ]
  },
  {
   "cell_type": "code",
   "execution_count": null,
   "id": "2ace1af2-43c9-4550-ba27-622463ac9568",
   "metadata": {},
   "outputs": [],
   "source": [
    "%load_ext autoreload\n",
    "%autoreload 2"
   ]
  },
  {
   "cell_type": "code",
   "execution_count": null,
   "id": "8b4f8f05-fc5b-4cc4-b402-4843400d067a",
   "metadata": {},
   "outputs": [],
   "source": [
    "import os\n",
    "import pandas as pd\n",
    "import time\n",
    "import numpy as np\n",
    "import matplotlib.pyplot as plt"
   ]
  },
  {
   "cell_type": "code",
   "execution_count": null,
   "id": "63be5d54-2ee6-492d-836c-fff0d0ce2dde",
   "metadata": {},
   "outputs": [],
   "source": [
    "import visualization"
   ]
  },
  {
   "cell_type": "code",
   "execution_count": null,
   "id": "2b3a7bb0-db07-4b49-b5bb-ba1924417ab1",
   "metadata": {},
   "outputs": [],
   "source": [
    "pd.set_option('display.max_columns', None)"
   ]
  },
  {
   "cell_type": "markdown",
   "id": "283cfb0b-a6e8-440f-9968-6cb12496da20",
   "metadata": {},
   "source": [
    "# 1) Read csv files"
   ]
  },
  {
   "cell_type": "code",
   "execution_count": null,
   "id": "3f24e634-380d-4ff5-973d-d7976739d3a1",
   "metadata": {},
   "outputs": [],
   "source": [
    "folder_list =[\n",
    "    # e.g. {'TIME_STAMP':  \"0101_1730\", 'ARRAY_KEYS': \"k_N_lr\", 'ARRAY_LEN': 100}\n",
    "    {'TIME_STAMP':  \"WHAT-YOU-SET\", 'ARRAY_KEYS': \"WHAT-YOU-SET\", 'ARRAY_LEN': 0},\n",
    "    {'TIME_STAMP':  \"WHAT-YOU-SET\", 'ARRAY_KEYS': \"WHAT-YOU-SET\", 'ARRAY_LEN': 0}\n",
    "]"
   ]
  },
  {
   "cell_type": "code",
   "execution_count": null,
   "id": "5be1a2f0-1a0c-4aac-8cae-d6b06d6076e7",
   "metadata": {},
   "outputs": [],
   "source": [
    "data = visualization.AggregateFolders(folder_list)"
   ]
  },
  {
   "cell_type": "code",
   "execution_count": null,
   "id": "b599e9ec-860d-41af-a948-62a4c434a430",
   "metadata": {},
   "outputs": [],
   "source": [
    "print(data.shape, data.isna().sum().sum())\n",
    "na_rows = data[data.isna().any(axis=1)]\n",
    "print(na_rows.shape)\n",
    "na_rows.head(6)"
   ]
  },
  {
   "cell_type": "code",
   "execution_count": null,
   "id": "e456118a-c7a3-42a5-95ee-454cd721c6f7",
   "metadata": {},
   "outputs": [],
   "source": [
    "print(na_rows.loc[:, 'mmdcurve:0':'mmdcurve:600'].isna().sum().sum())\n",
    "print(na_rows['mmdbest:100'].isna().sum(), na_rows['mmdbest:300'].isna().sum(), na_rows['mmdbest:1200'].isna().sum())\n",
    "#---\n",
    "data = data.fillna(0.0)\n",
    "print(data.isna().sum().sum())"
   ]
  },
  {
   "cell_type": "code",
   "execution_count": null,
   "id": "8041d996-2a81-4357-a293-d06211063aba",
   "metadata": {
    "scrolled": true,
    "tags": []
   },
   "outputs": [],
   "source": [
    "data.index = list(range(len(data)))\n",
    "print(data.shape)\n",
    "data.head(6)"
   ]
  },
  {
   "cell_type": "markdown",
   "id": "827767cb-0834-4eb0-907a-8c4f996154af",
   "metadata": {},
   "source": [
    "# 2) Visualize - Convergence curve"
   ]
  },
  {
   "cell_type": "code",
   "execution_count": null,
   "id": "e41f9df4-9a36-401e-9400-bcda7144314b",
   "metadata": {},
   "outputs": [],
   "source": [
    "visualize = visualization.Visualize(data)\n",
    "print(visualize.data_num, visualize.rep_optim)"
   ]
  },
  {
   "cell_type": "markdown",
   "id": "bf952af4-a4fb-4b5c-822f-4eecbc2f1f76",
   "metadata": {},
   "source": [
    "## 2-1) Varying N"
   ]
  },
  {
   "cell_type": "code",
   "execution_count": null,
   "id": "fbd9dfd3-4d8f-42ca-857d-1d8ce47bbd58",
   "metadata": {},
   "outputs": [],
   "source": [
    "attribute = {'row'     : 'log_nolog',\n",
    "             'col'     : 'd',\n",
    "             'varying' : 'N',\n",
    "             'fixed'   : [['k', 4], ['lr', 0.5], ['task', 'var-one'], ['all_or_one', 'one']]\n",
    "}\n",
    "visualize.AppendixMMDCurve(attribute, optimizer_rep = True, sample_rep = True, speed_only = False, mmdtype = None)"
   ]
  },
  {
   "cell_type": "code",
   "execution_count": null,
   "id": "bbe7a449-6d8d-4b52-907b-6ba815825e69",
   "metadata": {},
   "outputs": [],
   "source": []
  }
 ],
 "metadata": {
  "kernelspec": {
   "display_name": "mmd-env",
   "language": "python",
   "name": "mmd-env"
  },
  "language_info": {
   "codemirror_mode": {
    "name": "ipython",
    "version": 3
   },
   "file_extension": ".py",
   "mimetype": "text/x-python",
   "name": "python",
   "nbconvert_exporter": "python",
   "pygments_lexer": "ipython3",
   "version": "3.8.16"
  }
 },
 "nbformat": 4,
 "nbformat_minor": 5
}
